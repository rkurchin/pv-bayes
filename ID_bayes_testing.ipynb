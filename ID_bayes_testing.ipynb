{
 "cells": [
  {
   "cell_type": "markdown",
   "metadata": {},
   "source": [
    "# Testing Pmf.py code with ideal diode fitting"
   ]
  },
  {
   "cell_type": "markdown",
   "metadata": {},
   "source": [
    "Some stuff for testing out `ID_pmf.py` (which inherits from `Pmf.py` and defines a PMF over ideality factor and $J_0$ in the ideal diode equation) and `ID_bayes.py` which defines relevant likelihood function.\n",
    "\n",
    "Also working on visualizing, at least in 2D. General-dimension stuff for that to come later."
   ]
  },
  {
   "cell_type": "code",
   "execution_count": 21,
   "metadata": {
    "collapsed": false
   },
   "outputs": [],
   "source": [
    "import numpy as np\n",
    "import ID_bayes as bayes\n",
    "import ID_pmf as pmf"
   ]
  },
  {
   "cell_type": "markdown",
   "metadata": {},
   "source": [
    "## Initialize some stuff (create the \"measurements\")"
   ]
  },
  {
   "cell_type": "markdown",
   "metadata": {},
   "source": [
    "Our \"measurements\" will be on a diode with $n=1.5$ and $J_0=5$. We'll start with five subdivisions in $n$ (linearly spaced between 1 and 2) and four in $J_0$ (logarithmically spaced between 0.1 and 100). \"Measurements\" at three temperatures and from -0.1 V to 0.2 V."
   ]
  },
  {
   "cell_type": "code",
   "execution_count": 54,
   "metadata": {
    "collapsed": false
   },
   "outputs": [],
   "source": [
    "test = pmf.ID_Pmf([10,10])\n",
    "voltages = np.arange(-0.1, 0.2, 0.05)\n",
    "currents_100 = [test.compute_ID(V,100,{'n':1.5,'J_0':5}) for V in voltages]\n",
    "currents_300 = [test.compute_ID(V,300,{'n':1.5,'J_0':5}) for V in voltages]\n",
    "currents_500 = [test.compute_ID(V,500,{'n':1.5,'J_0':5}) for V in voltages]"
   ]
  },
  {
   "cell_type": "code",
   "execution_count": 55,
   "metadata": {
    "collapsed": false
   },
   "outputs": [
    {
     "data": {
      "text/plain": [
       "array([[ 0.01,  0.01,  0.01,  0.01,  0.01,  0.01,  0.01,  0.01,  0.01,\n",
       "         0.01],\n",
       "       [ 0.01,  0.01,  0.01,  0.01,  0.01,  0.01,  0.01,  0.01,  0.01,\n",
       "         0.01],\n",
       "       [ 0.01,  0.01,  0.01,  0.01,  0.01,  0.01,  0.01,  0.01,  0.01,\n",
       "         0.01],\n",
       "       [ 0.01,  0.01,  0.01,  0.01,  0.01,  0.01,  0.01,  0.01,  0.01,\n",
       "         0.01],\n",
       "       [ 0.01,  0.01,  0.01,  0.01,  0.01,  0.01,  0.01,  0.01,  0.01,\n",
       "         0.01],\n",
       "       [ 0.01,  0.01,  0.01,  0.01,  0.01,  0.01,  0.01,  0.01,  0.01,\n",
       "         0.01],\n",
       "       [ 0.01,  0.01,  0.01,  0.01,  0.01,  0.01,  0.01,  0.01,  0.01,\n",
       "         0.01],\n",
       "       [ 0.01,  0.01,  0.01,  0.01,  0.01,  0.01,  0.01,  0.01,  0.01,\n",
       "         0.01],\n",
       "       [ 0.01,  0.01,  0.01,  0.01,  0.01,  0.01,  0.01,  0.01,  0.01,\n",
       "         0.01],\n",
       "       [ 0.01,  0.01,  0.01,  0.01,  0.01,  0.01,  0.01,  0.01,  0.01,\n",
       "         0.01]])"
      ]
     },
     "execution_count": 55,
     "metadata": {},
     "output_type": "execute_result"
    }
   ],
   "source": [
    "test.probs"
   ]
  },
  {
   "cell_type": "markdown",
   "metadata": {},
   "source": [
    "## First Bayes"
   ]
  },
  {
   "cell_type": "markdown",
   "metadata": {
    "collapsed": true
   },
   "source": [
    "Let's feed in the measurement at 300 K and 0.1 V."
   ]
  },
  {
   "cell_type": "code",
   "execution_count": 24,
   "metadata": {
    "collapsed": false
   },
   "outputs": [
    {
     "data": {
      "text/plain": [
       "(0.10000000000000001, 60.91850555901982)"
      ]
     },
     "execution_count": 24,
     "metadata": {},
     "output_type": "execute_result"
    }
   ],
   "source": [
    "voltages[4],currents_300[4]"
   ]
  },
  {
   "cell_type": "markdown",
   "metadata": {},
   "source": [
    "Gotta love machine error. Anyway, we'll call the uncertainty 5. In whatever units these hypothetical currents are."
   ]
  },
  {
   "cell_type": "code",
   "execution_count": 56,
   "metadata": {
    "collapsed": false
   },
   "outputs": [],
   "source": [
    "lkl=bayes.likelihood(test, currents_300[4], voltages[4], 300, 5)"
   ]
  },
  {
   "cell_type": "markdown",
   "metadata": {},
   "source": [
    "Now, we could just look at the numbers for the probabilities..."
   ]
  },
  {
   "cell_type": "code",
   "execution_count": 26,
   "metadata": {
    "collapsed": false
   },
   "outputs": [
    {
     "data": {
      "text/plain": [
       "array([[  3.71046561e-025,   3.24922107e-003,   4.73605477e-295,\n",
       "          0.00000000e+000],\n",
       "       [  2.45745511e-028,   6.29874851e-012,   2.96423450e-054,\n",
       "          0.00000000e+000],\n",
       "       [  7.51229816e-030,   6.19063620e-018,   1.18297116e-008,\n",
       "          0.00000000e+000],\n",
       "       [  1.10963002e-030,   1.09005053e-021,   8.76914891e-001,\n",
       "          0.00000000e+000],\n",
       "       [  3.47111378e-031,   4.02308313e-024,   1.19835876e-001,\n",
       "          0.00000000e+000]])"
      ]
     },
     "execution_count": 26,
     "metadata": {},
     "output_type": "execute_result"
    }
   ],
   "source": [
    "lkl.probs"
   ]
  },
  {
   "cell_type": "markdown",
   "metadata": {},
   "source": [
    "But that's going to get cumbersome fast as the matrices get bigger, so it'd be nice to visualize."
   ]
  },
  {
   "cell_type": "code",
   "execution_count": 27,
   "metadata": {
    "collapsed": false,
    "scrolled": false
   },
   "outputs": [
    {
     "data": {
      "image/png": "[encoded data removed]",
      "text/plain": [
       "<matplotlib.figure.Figure at 0x10f7e92d0>"
      ]
     },
     "metadata": {},
     "output_type": "display_data"
    }
   ],
   "source": [
    "from matplotlib import pyplot as plt\n",
    "%matplotlib inline\n",
    "\n",
    "def visualize_probs(pmf):\n",
    "    plt.matshow(pmf.probs)\n",
    "    # get and round off values along J_0 and label that axis\n",
    "    # this way to cleverly get indices doesn't actually work - to figure out later\n",
    "    #xlocs, xlabels = plt.xticks()\n",
    "    #xinds = [int(xlabel.get_text()) for xlabel in xlabels[1:-1]]\n",
    "    #plt.gca().set_xticklabels(['']+list([round(bc,1) for bc in pmf.box_centers()['J_0'][xinds]]))\n",
    "    plt.xlabel('J_0')\n",
    "    plt.gca().xaxis.set_label_position('top')\n",
    "    # get n values and label that axis\n",
    "    #plt.gca().set_yticklabels(['']+list(pmf.box_centers()['n']))\n",
    "    plt.ylabel('n')\n",
    "    plt.colorbar()\n",
    "    plt.show()\n",
    "    \n",
    "visualize_probs(lkl)"
   ]
  },
  {
   "cell_type": "markdown",
   "metadata": {},
   "source": [
    "## Onward!"
   ]
  },
  {
   "cell_type": "markdown",
   "metadata": {
    "collapsed": true
   },
   "source": [
    "Okay, now let's keep going! We'll do some Bayesian updating and subdivisions \"by hand\" and visualize the PMF at each step along the way."
   ]
  },
  {
   "cell_type": "code",
   "execution_count": 57,
   "metadata": {
    "collapsed": false
   },
   "outputs": [],
   "source": [
    "test.multiply(lkl)"
   ]
  },
  {
   "cell_type": "markdown",
   "metadata": {},
   "source": [
    "That's the update (note that the `multiply` function also renormalizes the PMF afterwards)! Now let's subdivide all cells with a probability higher thatn 0.1."
   ]
  },
  {
   "cell_type": "code",
   "execution_count": 29,
   "metadata": {
    "collapsed": false
   },
   "outputs": [],
   "source": [
    "test.subdivide(0.1)"
   ]
  },
  {
   "cell_type": "markdown",
   "metadata": {},
   "source": [
    "We can check the levels of subdivision at each point:"
   ]
  },
  {
   "cell_type": "code",
   "execution_count": 30,
   "metadata": {
    "collapsed": false
   },
   "outputs": [
    {
     "data": {
      "image/png": "[encoded data removed]",
      "text/plain": [
       "<matplotlib.figure.Figure at 0x10f7e9a50>"
      ]
     },
     "metadata": {},
     "output_type": "display_data"
    }
   ],
   "source": [
    "plt.matshow(test._m)\n",
    "plt.colorbar()\n",
    "plt.show()"
   ]
  },
  {
   "cell_type": "markdown",
   "metadata": {},
   "source": [
    "Check the distribution still looks the same after the subdivision:"
   ]
  },
  {
   "cell_type": "code",
   "execution_count": 31,
   "metadata": {
    "collapsed": false
   },
   "outputs": [
    {
     "data": {
      "image/png": "[encoded data removed]",
      "text/plain": [
       "<matplotlib.figure.Figure at 0x110111e90>"
      ]
     },
     "metadata": {},
     "output_type": "display_data"
    }
   ],
   "source": [
    "visualize_probs(test)"
   ]
  },
  {
   "cell_type": "markdown",
   "metadata": {},
   "source": [
    "Cool. So now we'll feed in some data at 100 K and see what happens."
   ]
  },
  {
   "cell_type": "code",
   "execution_count": 58,
   "metadata": {
    "collapsed": false
   },
   "outputs": [
    {
     "data": {
      "image/png": "[encoded data removed]",
      "text/plain": [
       "<matplotlib.figure.Figure at 0x1101f34d0>"
      ]
     },
     "metadata": {},
     "output_type": "display_data"
    }
   ],
   "source": [
    "lkl=bayes.likelihood(test, currents_100[0], voltages[0], 100, 0.5)\n",
    "test.multiply(lkl)\n",
    "visualize_probs(test)"
   ]
  },
  {
   "cell_type": "code",
   "execution_count": 17,
   "metadata": {
    "collapsed": false
   },
   "outputs": [
    {
     "data": {
      "text/plain": [
       "(1.6499999999999999, 4.8696752516586308)"
      ]
     },
     "execution_count": 17,
     "metadata": {},
     "output_type": "execute_result"
    }
   ],
   "source": [
    "test.box_centers()['n'][6], test.box_centers()['J_0'][4]"
   ]
  },
  {
   "cell_type": "code",
   "execution_count": 59,
   "metadata": {
    "collapsed": false
   },
   "outputs": [
    {
     "data": {
      "text/plain": [
       "[{'J_0': 4.46683592150963, 'n': 1.55, 'prob': 0.074258269928999296},\n",
       " {'J_0': 4.46683592150963, 'n': 1.45, 'prob': 0.89455144809834497}]"
      ]
     },
     "execution_count": 59,
     "metadata": {},
     "output_type": "execute_result"
    }
   ],
   "source": [
    "test.most_probable(2)"
   ]
  },
  {
   "cell_type": "markdown",
   "metadata": {},
   "source": [
    "Moar observations plz!"
   ]
  },
  {
   "cell_type": "code",
   "execution_count": 60,
   "metadata": {
    "collapsed": false
   },
   "outputs": [
    {
     "data": {
      "image/png": "[encoded data removed]",
      "text/plain": [
       "<matplotlib.figure.Figure at 0x10f66c550>"
      ]
     },
     "metadata": {},
     "output_type": "display_data"
    }
   ],
   "source": [
    "lkl=bayes.likelihood(test, currents_500[6], voltages[6], 500, 10)\n",
    "test.multiply(lkl)\n",
    "visualize_probs(test)"
   ]
  },
  {
   "cell_type": "code",
   "execution_count": 61,
   "metadata": {
    "collapsed": false
   },
   "outputs": [],
   "source": [
    "test.subdivide(0.1)"
   ]
  },
  {
   "cell_type": "code",
   "execution_count": 41,
   "metadata": {
    "collapsed": false
   },
   "outputs": [
    {
     "data": {
      "text/plain": [
       "([-4.997817983860017,\n",
       "  -4.895548668271211,\n",
       "  0.0,\n",
       "  234.34591915891676,\n",
       "  11452.293803605324,\n",
       "  548446.3032995338,\n",
       "  26253911.260426637],\n",
       " [-4.620743829248125,\n",
       "  -3.6229448617577535,\n",
       "  0.0,\n",
       "  13.154683357059668,\n",
       "  60.91850555901982,\n",
       "  234.34591915891622,\n",
       "  864.0498750269062],\n",
       " [-3.9359853804509184,\n",
       "  -2.6934716351743235,\n",
       "  0.0,\n",
       "  5.838800155787142,\n",
       "  18.49591776341827,\n",
       "  45.93351142289994,\n",
       "  105.41163030906289])"
      ]
     },
     "execution_count": 41,
     "metadata": {},
     "output_type": "execute_result"
    }
   ],
   "source": [
    "currents_100, currents_300, currents_500"
   ]
  },
  {
   "cell_type": "code",
   "execution_count": 62,
   "metadata": {
    "collapsed": false
   },
   "outputs": [
    {
     "data": {
      "image/png": "[encoded data removed]",
      "text/plain": [
       "<matplotlib.figure.Figure at 0x1102dbd10>"
      ]
     },
     "metadata": {},
     "output_type": "display_data"
    }
   ],
   "source": [
    "lkl=bayes.likelihood(test, currents_300[3], voltages[3], 300, 1)\n",
    "test.multiply(lkl)\n",
    "visualize_probs(test)"
   ]
  },
  {
   "cell_type": "code",
   "execution_count": 63,
   "metadata": {
    "collapsed": false
   },
   "outputs": [
    {
     "data": {
      "text/plain": [
       "[{'J_0': 3.7583740428844412, 'n': 1.425, 'prob': 0.10735390256134743},\n",
       " {'J_0': 5.3088444423098817, 'n': 1.425, 'prob': 0.147545746798383},\n",
       " {'J_0': 5.3088444423098817,\n",
       "  'n': 1.4750000000000001,\n",
       "  'prob': 0.71581044722943266}]"
      ]
     },
     "execution_count": 63,
     "metadata": {},
     "output_type": "execute_result"
    }
   ],
   "source": [
    "test.most_probable(3)"
   ]
  },
  {
   "cell_type": "code",
   "execution_count": null,
   "metadata": {
    "collapsed": true
   },
   "outputs": [],
   "source": []
  }
 ],
 "metadata": {
  "kernelspec": {
   "display_name": "Python 2",
   "language": "python",
   "name": "python2"
  },
  "language_info": {
   "codemirror_mode": {
    "name": "ipython",
    "version": 2
   },
   "file_extension": ".py",
   "mimetype": "text/x-python",
   "name": "python",
   "nbconvert_exporter": "python",
   "pygments_lexer": "ipython2",
   "version": "2.7.13"
  }
 },
 "nbformat": 4,
 "nbformat_minor": 2
}
